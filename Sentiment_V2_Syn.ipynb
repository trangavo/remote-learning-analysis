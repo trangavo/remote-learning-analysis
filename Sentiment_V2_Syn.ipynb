{
 "cells": [
  {
   "cell_type": "code",
   "execution_count": 1,
   "metadata": {},
   "outputs": [],
   "source": [
    "import pandas as pd\n",
    "import scipy.stats as sts\n",
    "import matplotlib.pyplot as plt\n",
    "import numpy as np\n",
    "import csv\n",
    "import time\n",
    "import json\n",
    "import ast"
   ]
  },
  {
   "cell_type": "code",
   "execution_count": 84,
   "metadata": {},
   "outputs": [
    {
     "name": "stdout",
     "output_type": "stream",
     "text": [
      "(10455, 39) (10455, 1) (10455, 1) (10454, 1) (10454, 1)\n"
     ]
    }
   ],
   "source": [
    "full_data = pd.read_csv('processed_data.csv')\n",
    "full_data = full_data.drop('Unnamed: 0', axis=1)\n",
    "data1 = pd.read_csv('sentiment_remote_change.csv', names=['0','sentiment_remote_change'])\n",
    "data1 = data1.drop('0', axis=1)\n",
    "data1 = data1.drop(0, axis=0).reset_index(drop=True)\n",
    "data2 = pd.read_csv('sentiment_why_mode.csv', names=['0','sentiment_why_mode'])\n",
    "data2 = data2.drop('0', axis=1)\n",
    "data2 = data2.drop(0, axis=0).reset_index(drop=True)\n",
    "data3 = pd.read_csv('sentiment_prior_change.csv', header=None)\n",
    "data3 = data3.drop(0, axis=1).reset_index(drop=True)\n",
    "data3.columns = ['sentiment_prior_change']\n",
    "data4 = pd.read_csv('sentiment_why_preference.csv', header=None)\n",
    "data4 = data4.drop(0, axis=1).reset_index(drop=True)\n",
    "data4.columns = ['sentiment_why_preference']\n",
    "print(full_data.shape, data1.shape, data2.shape, data3.shape, data4.shape)"
   ]
  },
  {
   "cell_type": "code",
   "execution_count": 65,
   "metadata": {},
   "outputs": [],
   "source": [
    "# data = full_data.join(data1)\n",
    "# data = data.join(data2)"
   ]
  },
  {
   "cell_type": "code",
   "execution_count": 66,
   "metadata": {},
   "outputs": [],
   "source": [
    "def to_list(row):\n",
    "    if not pd.isna(row):\n",
    "        return ast.literal_eval(row)\n",
    "    else:\n",
    "        return np.NaN"
   ]
  },
  {
   "cell_type": "code",
   "execution_count": 67,
   "metadata": {},
   "outputs": [],
   "source": [
    "def num_sentiment(row):\n",
    "    if type(row) == list:\n",
    "        return len(row)\n",
    "    else:\n",
    "        return np.NaN"
   ]
  },
  {
   "cell_type": "code",
   "execution_count": 100,
   "metadata": {},
   "outputs": [
    {
     "name": "stdout",
     "output_type": "stream",
     "text": [
      "1.0    0.387741\n",
      "2.0    0.276158\n",
      "0.0    0.254054\n",
      "3.0    0.081660\n",
      "4.0    0.000290\n",
      "6.0    0.000097\n",
      "Name: sentiment_remote_change, dtype: float64\n",
      "1.0    0.421295\n",
      "2.0    0.300772\n",
      "0.0    0.196226\n",
      "3.0    0.081600\n",
      "4.0    0.000107\n",
      "Name: sentiment_why_mode, dtype: float64\n",
      "1.0    0.397833\n",
      "0.0    0.269350\n",
      "2.0    0.254714\n",
      "3.0    0.077259\n",
      "4.0    0.000704\n",
      "5.0    0.000141\n",
      "Name: sentiment_prior_change, dtype: float64\n",
      "2.0    0.356848\n",
      "1.0    0.353099\n",
      "0.0    0.159443\n",
      "3.0    0.128015\n",
      "4.0    0.002499\n",
      "5.0    0.000096\n",
      "Name: sentiment_why_preference, dtype: float64\n"
     ]
    }
   ],
   "source": [
    "print(data1['sentiment_remote_change'].apply(to_list).apply(num_sentiment).value_counts(normalize=True))\n",
    "print(data2['sentiment_why_mode'].apply(to_list).apply(num_sentiment).value_counts(normalize=True))\n",
    "print(data3['sentiment_prior_change'].apply(to_list).apply(num_sentiment).value_counts(normalize=True))\n",
    "print(data4['sentiment_why_preference'].apply(to_list).apply(num_sentiment).value_counts(normalize=True))"
   ]
  },
  {
   "cell_type": "code",
   "execution_count": 99,
   "metadata": {},
   "outputs": [
    {
     "data": {
      "text/plain": [
       "1.0    0.387741\n",
       "2.0    0.276158\n",
       "0.0    0.254054\n",
       "3.0    0.081660\n",
       "4.0    0.000290\n",
       "6.0    0.000097\n",
       "Name: sentiment_remote_change, dtype: float64"
      ]
     },
     "execution_count": 99,
     "metadata": {},
     "output_type": "execute_result"
    }
   ],
   "source": [
    "data1['sentiment_remote_change'].apply(to_list).apply(num_sentiment).value_counts(normalize=True)"
   ]
  },
  {
   "cell_type": "code",
   "execution_count": 68,
   "metadata": {},
   "outputs": [],
   "source": [
    "# data['sentiment_remote_change'] = data['sentiment_remote_change'].apply(to_list)\n",
    "# data['sentiment_why_mode'] = data['sentiment_why_mode'].apply(to_list)"
   ]
  },
  {
   "cell_type": "code",
   "execution_count": 69,
   "metadata": {},
   "outputs": [],
   "source": [
    "# data['sentiment_remote_change'].apply(num_sentiment).value_counts(normalize=True)"
   ]
  },
  {
   "cell_type": "code",
   "execution_count": 70,
   "metadata": {},
   "outputs": [],
   "source": [
    "# data['sentiment_why_mode'].apply(num_sentiment).value_counts(normalize=True)"
   ]
  },
  {
   "cell_type": "code",
   "execution_count": 85,
   "metadata": {},
   "outputs": [],
   "source": [
    "count = {'anger': 0, 'fear': 0, 'joy': 0, 'sadness': 0, \\\n",
    "             'analytical': 0, 'confident': 0, 'tentative': 0, 'none': 0}\n",
    "def count_sentiment(row,args=(count)):\n",
    "    if type(row) == list and len(row) == 0:\n",
    "        count['none'] += 1\n",
    "    if type(row) == list and len(row) != 0:\n",
    "        for tone in row:\n",
    "            count[tone['tone_id']] += 1\n",
    "    return count"
   ]
  },
  {
   "cell_type": "code",
   "execution_count": 86,
   "metadata": {},
   "outputs": [],
   "source": [
    "def percentage_sentiment(data):\n",
    "    count_ = pd.Series(data.apply(count_sentiment)[0]).rename('count').reset_index()\n",
    "    count_['percentage'] = count_['count'] / sum(count_['count'])\n",
    "    return count_.sort_values('percentage', ascending=False)"
   ]
  },
  {
   "cell_type": "code",
   "execution_count": 87,
   "metadata": {},
   "outputs": [
    {
     "data": {
      "text/html": [
       "<div>\n",
       "<style scoped>\n",
       "    .dataframe tbody tr th:only-of-type {\n",
       "        vertical-align: middle;\n",
       "    }\n",
       "\n",
       "    .dataframe tbody tr th {\n",
       "        vertical-align: top;\n",
       "    }\n",
       "\n",
       "    .dataframe thead th {\n",
       "        text-align: right;\n",
       "    }\n",
       "</style>\n",
       "<table border=\"1\" class=\"dataframe\">\n",
       "  <thead>\n",
       "    <tr style=\"text-align: right;\">\n",
       "      <th></th>\n",
       "      <th>sentiment_remote_change</th>\n",
       "    </tr>\n",
       "  </thead>\n",
       "  <tbody>\n",
       "    <tr>\n",
       "      <th>0</th>\n",
       "      <td>[{'score': 0.758976, 'tone_id': 'joy', 'tone_n...</td>\n",
       "    </tr>\n",
       "    <tr>\n",
       "      <th>1</th>\n",
       "      <td>[{'score': 0.579367, 'tone_id': 'analytical', ...</td>\n",
       "    </tr>\n",
       "    <tr>\n",
       "      <th>2</th>\n",
       "      <td>[]</td>\n",
       "    </tr>\n",
       "    <tr>\n",
       "      <th>3</th>\n",
       "      <td>[{'score': 0.916667, 'tone_id': 'sadness', 'to...</td>\n",
       "    </tr>\n",
       "    <tr>\n",
       "      <th>4</th>\n",
       "      <td>[{'score': 0.620279, 'tone_id': 'analytical', ...</td>\n",
       "    </tr>\n",
       "  </tbody>\n",
       "</table>\n",
       "</div>"
      ],
      "text/plain": [
       "                             sentiment_remote_change\n",
       "0  [{'score': 0.758976, 'tone_id': 'joy', 'tone_n...\n",
       "1  [{'score': 0.579367, 'tone_id': 'analytical', ...\n",
       "2                                                 []\n",
       "3  [{'score': 0.916667, 'tone_id': 'sadness', 'to...\n",
       "4  [{'score': 0.620279, 'tone_id': 'analytical', ..."
      ]
     },
     "execution_count": 87,
     "metadata": {},
     "output_type": "execute_result"
    }
   ],
   "source": [
    "data1.head()"
   ]
  },
  {
   "cell_type": "code",
   "execution_count": 92,
   "metadata": {},
   "outputs": [],
   "source": [
    "count = {'anger': 0, 'fear': 0, 'joy': 0, 'sadness': 0, \\\n",
    "             'analytical': 0, 'confident': 0, 'tentative': 0, 'none': 0}\n",
    "sentiment_remote_change = percentage_sentiment(data1['sentiment_remote_change'].apply(to_list))\n",
    "count = {'anger': 0, 'fear': 0, 'joy': 0, 'sadness': 0, \\\n",
    "             'analytical': 0, 'confident': 0, 'tentative': 0, 'none': 0}\n",
    "sentiment_prior_change = percentage_sentiment(data3['sentiment_prior_change'].apply(to_list))\n",
    "count = {'anger': 0, 'fear': 0, 'joy': 0, 'sadness': 0, \\\n",
    "             'analytical': 0, 'confident': 0, 'tentative': 0, 'none': 0}\n",
    "sentiment_why_mode = percentage_sentiment(data2['sentiment_why_mode'].apply(to_list))\n",
    "count = {'anger': 0, 'fear': 0, 'joy': 0, 'sadness': 0, \\\n",
    "             'analytical': 0, 'confident': 0, 'tentative': 0, 'none': 0}\n",
    "sentiment_why_preference = percentage_sentiment(data4['sentiment_why_preference'].apply(to_list))"
   ]
  },
  {
   "cell_type": "code",
   "execution_count": 93,
   "metadata": {},
   "outputs": [
    {
     "name": "stdout",
     "output_type": "stream",
     "text": [
      "        index  count  percentage\n",
      "4  analytical   5140    0.344342\n",
      "6   tentative   2935    0.196624\n",
      "7        none   2632    0.176325\n",
      "2         joy   1571    0.105246\n",
      "3     sadness   1410    0.094460\n",
      "5   confident    944    0.063241\n",
      "0       anger    162    0.010853\n",
      "1        fear    133    0.008910\n"
     ]
    }
   ],
   "source": [
    "print(sentiment_remote_change)"
   ]
  },
  {
   "cell_type": "code",
   "execution_count": 94,
   "metadata": {},
   "outputs": [
    {
     "name": "stdout",
     "output_type": "stream",
     "text": [
      "        index  count  percentage\n",
      "4  analytical   3245    0.323433\n",
      "6   tentative   1964    0.195754\n",
      "7        none   1914    0.190770\n",
      "2         joy   1092    0.108841\n",
      "3     sadness   1083    0.107944\n",
      "5   confident    460    0.045849\n",
      "1        fear    172    0.017143\n",
      "0       anger    103    0.010266\n"
     ]
    }
   ],
   "source": [
    "print(sentiment_prior_change)"
   ]
  },
  {
   "cell_type": "code",
   "execution_count": 95,
   "metadata": {},
   "outputs": [
    {
     "name": "stdout",
     "output_type": "stream",
     "text": [
      "        index  count  percentage\n",
      "4  analytical   5714    0.418424\n",
      "6   tentative   2205    0.161467\n",
      "2         joy   1925    0.140964\n",
      "7        none   1830    0.134007\n",
      "5   confident    939    0.068761\n",
      "3     sadness    817    0.059827\n",
      "1        fear    121    0.008861\n",
      "0       anger    105    0.007689\n"
     ]
    }
   ],
   "source": [
    "print(sentiment_why_mode)"
   ]
  },
  {
   "cell_type": "code",
   "execution_count": 96,
   "metadata": {},
   "outputs": [
    {
     "name": "stdout",
     "output_type": "stream",
     "text": [
      "        index  count  percentage\n",
      "4  analytical   6652    0.394450\n",
      "2         joy   3576    0.212049\n",
      "6   tentative   2482    0.147177\n",
      "7        none   1659    0.098375\n",
      "3     sadness   1314    0.077917\n",
      "5   confident    925    0.054851\n",
      "1        fear    177    0.010496\n",
      "0       anger     79    0.004685\n"
     ]
    }
   ],
   "source": [
    "print(sentiment_why_preference)"
   ]
  },
  {
   "cell_type": "code",
   "execution_count": null,
   "metadata": {},
   "outputs": [],
   "source": []
  }
 ],
 "metadata": {
  "kernelspec": {
   "display_name": "Python 3",
   "language": "python",
   "name": "python3"
  },
  "language_info": {
   "codemirror_mode": {
    "name": "ipython",
    "version": 3
   },
   "file_extension": ".py",
   "mimetype": "text/x-python",
   "name": "python",
   "nbconvert_exporter": "python",
   "pygments_lexer": "ipython3",
   "version": "3.6.8"
  }
 },
 "nbformat": 4,
 "nbformat_minor": 2
}
