{
 "cells": [
  {
   "cell_type": "code",
   "execution_count": 1,
   "metadata": {
    "colab": {},
    "colab_type": "code",
    "id": "Hb8jcMF9puoc"
   },
   "outputs": [
    {
     "name": "stdout",
     "output_type": "stream",
     "text": [
      "Requirement already up-to-date: ibm-watson>=4.5.0 in /anaconda3/lib/python3.6/site-packages (4.5.0)\n",
      "Requirement already satisfied, skipping upgrade: requests<3.0,>=2.0 in /anaconda3/lib/python3.6/site-packages (from ibm-watson>=4.5.0) (2.18.4)\n",
      "Requirement already satisfied, skipping upgrade: ibm-cloud-sdk-core==1.5.1 in /anaconda3/lib/python3.6/site-packages (from ibm-watson>=4.5.0) (1.5.1)\n",
      "Requirement already satisfied, skipping upgrade: python-dateutil>=2.5.3 in /anaconda3/lib/python3.6/site-packages (from ibm-watson>=4.5.0) (2.7.3)\n",
      "Requirement already satisfied, skipping upgrade: websocket-client==0.48.0 in /anaconda3/lib/python3.6/site-packages (from ibm-watson>=4.5.0) (0.48.0)\n",
      "Requirement already satisfied, skipping upgrade: chardet<3.1.0,>=3.0.2 in /anaconda3/lib/python3.6/site-packages (from requests<3.0,>=2.0->ibm-watson>=4.5.0) (3.0.4)\n",
      "Requirement already satisfied, skipping upgrade: idna<2.7,>=2.5 in /anaconda3/lib/python3.6/site-packages (from requests<3.0,>=2.0->ibm-watson>=4.5.0) (2.6)\n",
      "Requirement already satisfied, skipping upgrade: urllib3<1.23,>=1.21.1 in /anaconda3/lib/python3.6/site-packages (from requests<3.0,>=2.0->ibm-watson>=4.5.0) (1.22)\n",
      "Requirement already satisfied, skipping upgrade: certifi>=2017.4.17 in /anaconda3/lib/python3.6/site-packages (from requests<3.0,>=2.0->ibm-watson>=4.5.0) (2020.6.20)\n",
      "Requirement already satisfied, skipping upgrade: PyJWT>=1.7.1 in /anaconda3/lib/python3.6/site-packages (from ibm-cloud-sdk-core==1.5.1->ibm-watson>=4.5.0) (1.7.1)\n",
      "Requirement already satisfied, skipping upgrade: six>=1.5 in /anaconda3/lib/python3.6/site-packages (from python-dateutil>=2.5.3->ibm-watson>=4.5.0) (1.11.0)\n"
     ]
    }
   ],
   "source": [
    "!pip install --upgrade \"ibm-watson>=4.5.0\""
   ]
  },
  {
   "cell_type": "code",
   "execution_count": 2,
   "metadata": {
    "colab": {},
    "colab_type": "code",
    "id": "nvZl9eqOpVdK"
   },
   "outputs": [],
   "source": [
    "import pandas as pd\n",
    "import csv\n",
    "from ibm_watson import ToneAnalyzerV3\n",
    "from ibm_cloud_sdk_core.authenticators import IAMAuthenticator\n",
    "import numpy as np\n",
    "import time"
   ]
  },
  {
   "cell_type": "code",
   "execution_count": 3,
   "metadata": {
    "colab": {},
    "colab_type": "code",
    "id": "enQ_c0QMW67C"
   },
   "outputs": [],
   "source": [
    "headers = [\"timestamp\",\"level\",\"country\",\"is_online\",\n",
    "           \"first_survey\",\"agree\",\"primary_mode\",\"preferred_mode\",\n",
    "           \"why_mode\",\"platforms_used\",\"methods_used\",\n",
    "           \"techniques_outside\",\"remote_enjoy\",\"remote_motivated\",\n",
    "           \"remote_satisfied\",\"remote_engaging\",\"remote_distracted\",\n",
    "           \"remote_questions\",\"remote_changes\",\"prior_enjoy\",\n",
    "           \"prior_motivated\",\"prior_satisfied\",\"prior_engaging\",\n",
    "           \"prior_distracted\",\"prior_questions\",\"prior_changes\",\n",
    "           \"preference\",\"why_preference\"]\n",
    "\n",
    "# Read in the raw data\n",
    "full_data = pd.read_csv(\"raw_data.csv\", skiprows=[0], names=headers, na_values=\"?\")\n",
    "remote_survey_q = [\"remote_enjoy\",\"remote_motivated\",\n",
    "                   \"remote_satisfied\",\"remote_engaging\",\n",
    "                   \"remote_distracted\",\"remote_questions\"]\n",
    "change_survey_q = [\"change_enjoy\",\"change_motivated\",\n",
    "                   \"change_satisfied\",\"change_engaging\",\n",
    "                   \"change_distracted\",\"change_questions\"]\n",
    "data = full_data.drop([\"timestamp\",\"first_survey\",\"agree\"], axis=1)\n",
    "likert_dict = {\"Strongly Disagree\": 1, \"Disagree\": 2, \"Neutral\": 3, \n",
    "               \"Agree\": 4, \"Strongly Agree\": 5}\n",
    "likert_code = {\"remote_enjoy\":       likert_dict,\n",
    "               \"remote_motivated\":   likert_dict,\n",
    "               \"remote_satisfied\":   likert_dict,\n",
    "               \"remote_engaging\":    likert_dict,\n",
    "               \"remote_distracted\":  likert_dict,\n",
    "               \"remote_questions\":   likert_dict,\n",
    "               \"prior_enjoy\":       likert_dict,\n",
    "               \"prior_motivated\":   likert_dict,\n",
    "               \"prior_satisfied\":   likert_dict,\n",
    "               \"prior_engaging\":    likert_dict,\n",
    "               \"prior_distracted\":  likert_dict,\n",
    "               \"prior_questions\":   likert_dict}\n",
    "data.replace(likert_code, inplace=True)\n",
    "modes = {\"primary_mode\":   {\"Live classes (ie: Zoom, Google Meet etc.)\": \"live\",\n",
    "                            \"Uploaded or emailed Materials\": \"upload\",\n",
    "                            \"Recorded Lectures\": \"recorded\",\n",
    "                            \"Discussion forums/chats\": \"chat\"},\n",
    "         \"preferred_mode\":   {\"Live classes (ie: Zoom, google meet etc.)\": \"live\",\n",
    "                            \"Uploaded or emailed Materials\": \"upload\",\n",
    "                            \"Recorded Lectures/Videos\": \"recorded\",\n",
    "                            \"Discussion forums/chats\": \"chat\"}}\n",
    "\n",
    "data.replace(modes, inplace=True)\n"
   ]
  },
  {
   "cell_type": "code",
   "execution_count": 4,
   "metadata": {
    "colab": {
     "base_uri": "https://localhost:8080/",
     "height": 33
    },
    "colab_type": "code",
    "id": "pr9Tk_5Pfjqw",
    "outputId": "74db24d7-4530-4819-afed-e3f40c9f2a6c"
   },
   "outputs": [
    {
     "data": {
      "text/plain": [
       "(10561, 25)"
      ]
     },
     "execution_count": 4,
     "metadata": {},
     "output_type": "execute_result"
    }
   ],
   "source": [
    "data.shape"
   ]
  },
  {
   "cell_type": "code",
   "execution_count": 5,
   "metadata": {
    "colab": {
     "base_uri": "https://localhost:8080/",
     "height": 313
    },
    "colab_type": "code",
    "id": "Ld38tRj5ffcI",
    "outputId": "ea2b26b8-c96f-4823-ad47-213b2a6444a7"
   },
   "outputs": [
    {
     "name": "stdout",
     "output_type": "stream",
     "text": [
      "# of duplicates:  106\n",
      "Valid entries:  Int64Index([ 1143,  2304,  2966,  2968,  3441,  4090,  4550,  4778,  5406,\n",
      "             5710,  6885,  7130,  7140,  7191,  7536,  7537,  7767,  8411,\n",
      "             9016,  9314,  9371, 10154, 10186, 10447, 10472, 10531],\n",
      "           dtype='int64')\n",
      "# of duplicates for valid entries:  26\n",
      "NaN entries:  Int64Index([   20,    56,   124,   208,   322,   416,   431,   587,   773,\n",
      "              995,  1018,  1027,  1754,  1841,  2083,  2439,  2466,  2754,\n",
      "             2892,  3077,  3403,  3552,  3728,  3876,  4093,  4161,  4232,\n",
      "             4386,  4576,  4648,  4735,  4933,  5014,  5048,  5196,  5209,\n",
      "             5226,  5346,  5583,  5658,  5719,  5908,  5940,  5992,  6067,\n",
      "             6155,  6226,  6383,  6416,  6571,  6576,  6672,  6689,  7496,\n",
      "             7607,  7721,  7860,  7986,  8037,  8080,  8145,  8260,  8344,\n",
      "             8461,  8529,  9037,  9063,  9099,  9127,  9259,  9291,  9479,\n",
      "             9789,  9800,  9848,  9972, 10064, 10151, 10446, 10468],\n",
      "           dtype='int64')\n",
      "# of duplicates for NaN entries:  80\n"
     ]
    },
    {
     "data": {
      "text/plain": [
       "(10455, 25)"
      ]
     },
     "execution_count": 5,
     "metadata": {},
     "output_type": "execute_result"
    }
   ],
   "source": [
    "duplicate = data[data.duplicated()]\n",
    "print('# of duplicates: ', len(duplicate))\n",
    "print('Valid entries: ', duplicate[duplicate['primary_mode'].isna()==False].index)\n",
    "print('# of duplicates for valid entries: ', len(duplicate[duplicate['primary_mode'].isna()==False].index))\n",
    "print('NaN entries: ', duplicate[duplicate['primary_mode'].isna()].index)\n",
    "print('# of duplicates for NaN entries: ', len(duplicate[duplicate['primary_mode'].isna()]))\n",
    "data = data.drop(duplicate.index, axis=0)\n",
    "data.shape"
   ]
  },
  {
   "cell_type": "code",
   "execution_count": 6,
   "metadata": {
    "colab": {},
    "colab_type": "code",
    "id": "AwBg0D3mZada"
   },
   "outputs": [],
   "source": [
    "qualitative_data = data.loc[:,['preferred_mode','why_mode', 'preference', 'why_preference', 'remote_changes', 'prior_changes']]\n",
    "qualitative_data['mode_tone'] = np.zeros((data.shape[0], 1))\n",
    "qualitative_data['preference_tone'] = np.zeros((data.shape[0], 1))\n",
    "qualitative_data['remote_changes_tone'] = np.zeros((data.shape[0], 1))\n",
    "qualitative_data['prior_changes_tone'] = np.zeros((data.shape[0], 1))"
   ]
  },
  {
   "cell_type": "code",
   "execution_count": 7,
   "metadata": {
    "colab": {},
    "colab_type": "code",
    "id": "f4nOP3niXEBo"
   },
   "outputs": [],
   "source": [
    "authenticator = IAMAuthenticator('MPBO7gcnQsN_fUW4RBCc3Gs2JV15sw5RqJLpTOC9zMwi')\n",
    "tone_analyzer = ToneAnalyzerV3(\n",
    "    version='2017-09-21',\n",
    "    authenticator=authenticator\n",
    ")\n",
    "\n",
    "tone_analyzer.set_service_url('https://api.us-south.tone-analyzer.watson.cloud.ibm.com')"
   ]
  },
  {
   "cell_type": "code",
   "execution_count": 8,
   "metadata": {
    "colab": {},
    "colab_type": "code",
    "id": "R3XRocq5W24t"
   },
   "outputs": [],
   "source": [
    "def sentiment(data):\n",
    "    if not pd.isna(data):\n",
    "        json_output = tone_analyzer.tone(data, content_type='text/plain').result['document_tone']['tones']\n",
    "        return json_output\n",
    "    else:\n",
    "        return np.NaN"
   ]
  },
  {
   "cell_type": "code",
   "execution_count": 9,
   "metadata": {
    "colab": {},
    "colab_type": "code",
    "id": "JNHteOhOaa1o"
   },
   "outputs": [],
   "source": [
    "def sentiment_applied(data, col):\n",
    "    start = time.time()\n",
    "    sentiments = data[col].apply(sentiment)\n",
    "    end = time.time()\n",
    "    return end-start, sentiments"
   ]
  },
  {
   "cell_type": "code",
   "execution_count": 10,
   "metadata": {
    "colab": {
     "base_uri": "https://localhost:8080/",
     "height": 33
    },
    "colab_type": "code",
    "id": "Sz9J8YDWaQKI",
    "outputId": "7bde1bb8-1947-48a4-c15f-3faba4807421"
   },
   "outputs": [
    {
     "name": "stdout",
     "output_type": "stream",
     "text": [
      "Data shape:  (10455, 10)\n"
     ]
    }
   ],
   "source": [
    "print('Data shape: ', qualitative_data.shape)"
   ]
  },
  {
   "cell_type": "code",
   "execution_count": 13,
   "metadata": {},
   "outputs": [
    {
     "data": {
      "text/plain": [
       "0    Easier to ask for help, easier to understand t...\n",
       "1    In person more feel for the subject and can re...\n",
       "2                          Motivated to work in person\n",
       "3                                              Friends\n",
       "4                                    Easier to debate \n",
       "Name: why_preference, dtype: object"
      ]
     },
     "execution_count": 13,
     "metadata": {},
     "output_type": "execute_result"
    }
   ],
   "source": [
    "qualitative_data['why_preference'].head()"
   ]
  },
  {
   "cell_type": "code",
   "execution_count": 19,
   "metadata": {},
   "outputs": [
    {
     "data": {
      "text/plain": [
       "(10455,)"
      ]
     },
     "execution_count": 19,
     "metadata": {},
     "output_type": "execute_result"
    }
   ],
   "source": [
    "qualitative_data['why_preference'].shape"
   ]
  },
  {
   "cell_type": "code",
   "execution_count": 20,
   "metadata": {},
   "outputs": [
    {
     "data": {
      "text/plain": [
       "\"it's more engaging.\""
      ]
     },
     "execution_count": 20,
     "metadata": {},
     "output_type": "execute_result"
    }
   ],
   "source": [
    "qualitative_data['why_preference'].iloc[-2]"
   ]
  },
  {
   "cell_type": "code",
   "execution_count": 21,
   "metadata": {},
   "outputs": [
    {
     "data": {
      "text/plain": [
       "[{'score': 0.880435, 'tone_id': 'joy', 'tone_name': 'Joy'}]"
      ]
     },
     "execution_count": 21,
     "metadata": {},
     "output_type": "execute_result"
    }
   ],
   "source": [
    "sentiment(qualitative_data['why_preference'].iloc[-2])"
   ]
  },
  {
   "cell_type": "code",
   "execution_count": 16,
   "metadata": {},
   "outputs": [
    {
     "data": {
      "text/plain": [
       "[{'score': 0.730335, 'tone_id': 'analytical', 'tone_name': 'Analytical'}]"
      ]
     },
     "execution_count": 16,
     "metadata": {},
     "output_type": "execute_result"
    }
   ],
   "source": [
    "sentiment(qualitative_data['why_preference'].iloc[1])"
   ]
  },
  {
   "cell_type": "code",
   "execution_count": null,
   "metadata": {},
   "outputs": [],
   "source": []
  },
  {
   "cell_type": "code",
   "execution_count": 31,
   "metadata": {
    "colab": {},
    "colab_type": "code",
    "id": "X1HFzKu8Eo5j"
   },
   "outputs": [],
   "source": [
    "duration1, sentiment_why_mode = sentiment_applied(qualitative_data, 'why_mode')"
   ]
  },
  {
   "cell_type": "code",
   "execution_count": 35,
   "metadata": {
    "colab": {},
    "colab_type": "code",
    "id": "AHI33__g2DOE"
   },
   "outputs": [],
   "source": [
    "from google.colab import files\n",
    "sentiment_why_mode.to_csv('sentiment_why_mode.csv')\n",
    "files.download('sentiment_why_mode.csv')"
   ]
  },
  {
   "cell_type": "code",
   "execution_count": null,
   "metadata": {
    "colab": {},
    "colab_type": "code",
    "id": "WvpFGbzLYGhi"
   },
   "outputs": [],
   "source": [
    "duration2, sentiment_why_preference = sentiment_applied(qualitative_data, 'why_preference')"
   ]
  },
  {
   "cell_type": "code",
   "execution_count": null,
   "metadata": {
    "colab": {},
    "colab_type": "code",
    "id": "sGrviwWiYQIQ"
   },
   "outputs": [],
   "source": [
    "duration3, sentiment_remote_change = sentiment_applied(qualitative_data, 'remote_changes')"
   ]
  },
  {
   "cell_type": "code",
   "execution_count": null,
   "metadata": {
    "colab": {},
    "colab_type": "code",
    "id": "lv0GBg5kbILq"
   },
   "outputs": [],
   "source": [
    "duration4, sentiment_prior_change = sentiment_applied(qualitative_data, 'prior_changes')"
   ]
  },
  {
   "cell_type": "code",
   "execution_count": null,
   "metadata": {
    "colab": {},
    "colab_type": "code",
    "id": "oWm69AyfbUpO"
   },
   "outputs": [],
   "source": []
  }
 ],
 "metadata": {
  "colab": {
   "name": "V2 - Sentiment.ipynb",
   "provenance": []
  },
  "kernelspec": {
   "display_name": "Python 3",
   "language": "python",
   "name": "python3"
  },
  "language_info": {
   "codemirror_mode": {
    "name": "ipython",
    "version": 3
   },
   "file_extension": ".py",
   "mimetype": "text/x-python",
   "name": "python",
   "nbconvert_exporter": "python",
   "pygments_lexer": "ipython3",
   "version": "3.6.8"
  }
 },
 "nbformat": 4,
 "nbformat_minor": 2
}
